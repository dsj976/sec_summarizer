{
 "cells": [
  {
   "cell_type": "markdown",
   "id": "64671ca9",
   "metadata": {},
   "source": [
    "# SEC Summarizer\n",
    "\n",
    "This notebook illustrates how to use the API to interact with the SEC Summarizer tool. This tool allows you to fetch the business description of a company from its 10-K filing, and to produce a summary using a summarization model.\n",
    "\n",
    "There are two ways you can run this notebook. You can serve the app locally from your terminal, or within a Docker container. The first option is considerably faster."
   ]
  },
  {
   "cell_type": "markdown",
   "id": "6bb39ebe",
   "metadata": {},
   "source": [
    "## Option 1 - Serve the app locally (preferred)\n",
    "\n",
    "Open a terminal window in the repo root directory and run:\n",
    "\n",
    "```bash\n",
    "source .venv/bin/activate  # Activate the virtual environment where the dependencies are installed\n",
    "export EDGAR_IDENTITY=\"anonymous@user.com\"  # Set your EDGAR identity\n",
    "uvicorn sec_summarizer.api.main:app --host 0.0.0.0 --port 8000\n",
    "```\n",
    "\n",
    "This will start the API server. You can then access the API at http://localhost:8000/docs to see the available endpoints."
   ]
  },
  {
   "cell_type": "markdown",
   "id": "69d97cf6",
   "metadata": {},
   "source": [
    "## Option 2 - Run the app in a Docker container\n",
    "\n",
    "To run the app in a Docker container, you might have to clean up some of your Docker resources as the app will need to download the summarization models from the Internet (they are typically over 1GB in size), so you need some free disk space that Docker can use (see [docker system prune](https://docs.docker.com/reference/cli/docker/system/prune/)).\n",
    "\n",
    "Make sure you have specified your EDGAR identity with an email address in an `.env` file, following the instructions in `README.md`. Then, open a terminal window in the repo root directory and run:\n",
    "\n",
    "```bash\n",
    "docker build -t sec-summarizer-app .  # Build the Docker image\n",
    "docker run -d -p 8000:8000 --env-file .env sec-summarizer-app  # Run the Docker container\n",
    "```\n",
    "\n",
    "This will start the container as a background process and serve the API at http://localhost:8000/docs. You can then access the API at this URL to see the available endpoints."
   ]
  },
  {
   "cell_type": "markdown",
   "id": "c6e08f68",
   "metadata": {},
   "source": [
    "## The database\n",
    "\n",
    "The business description summaries are saved in a SQLite database, which by default will be located in the repo root directory under the name `sec_summarizer.db`. You can change this by setting the `DATABASE_URL` environment variable."
   ]
  },
  {
   "cell_type": "markdown",
   "id": "05d1e965",
   "metadata": {},
   "source": [
    "## Test the API"
   ]
  },
  {
   "cell_type": "code",
   "execution_count": 1,
   "id": "7a07af5b",
   "metadata": {},
   "outputs": [],
   "source": [
    "import requests"
   ]
  },
  {
   "cell_type": "code",
   "execution_count": 2,
   "id": "dd0eb1ee",
   "metadata": {},
   "outputs": [],
   "source": [
    "base_url = \"http://localhost:8000\""
   ]
  },
  {
   "cell_type": "markdown",
   "id": "8de0b4fd",
   "metadata": {},
   "source": [
    "Create a list of companies for which to fetch data and produce summaries."
   ]
  },
  {
   "cell_type": "code",
   "execution_count": 3,
   "id": "1ead4751",
   "metadata": {},
   "outputs": [],
   "source": [
    "companies = [\n",
    "    {\"name\": \"Apple Inc.\", \"ticker\": \"AAPL\"},\n",
    "    {\"name\": \"Microsoft Corp.\", \"ticker\": \"MSFT\"},\n",
    "    {\"name\": \"Alphabet Inc. (Google)\", \"ticker\": \"GOOGL\"},\n",
    "    {\"name\": \"Amazon.com Inc.\", \"ticker\": \"AMZN\"},\n",
    "    {\"name\": \"Meta Platforms Inc. (Facebook)\", \"ticker\": \"META\"},\n",
    "    {\"name\": \"Tesla Inc.\", \"ticker\": \"TSLA\"},\n",
    "    {\"name\": \"NVIDIA Corp.\", \"ticker\": \"NVDA\"},\n",
    "    {\"name\": \"JPMorgan Chase & Co.\", \"ticker\": \"JPM\"},\n",
    "    {\"name\": \"Netflix Inc.\", \"ticker\": \"NFLX\"},\n",
    "    {\"name\": \"The Walt Disney Co.\", \"ticker\": \"DIS\"},\n",
    "]"
   ]
  },
  {
   "cell_type": "markdown",
   "id": "4ead2300",
   "metadata": {},
   "source": [
    "Create these companies in the database. This will create a new entry in the table `companies` for each company."
   ]
  },
  {
   "cell_type": "code",
   "execution_count": 4,
   "id": "d52b689a",
   "metadata": {},
   "outputs": [
    {
     "name": "stdout",
     "output_type": "stream",
     "text": [
      "Created company: {'id': 1, 'name': 'Apple Inc.', 'ticker': 'AAPL'}\n",
      "Created company: {'id': 2, 'name': 'Microsoft Corp.', 'ticker': 'MSFT'}\n",
      "Created company: {'id': 3, 'name': 'Alphabet Inc. (Google)', 'ticker': 'GOOGL'}\n",
      "Created company: {'id': 4, 'name': 'Amazon.com Inc.', 'ticker': 'AMZN'}\n",
      "Created company: {'id': 5, 'name': 'Meta Platforms Inc. (Facebook)', 'ticker': 'META'}\n",
      "Created company: {'id': 6, 'name': 'Tesla Inc.', 'ticker': 'TSLA'}\n",
      "Created company: {'id': 7, 'name': 'NVIDIA Corp.', 'ticker': 'NVDA'}\n",
      "Created company: {'id': 8, 'name': 'JPMorgan Chase & Co.', 'ticker': 'JPM'}\n",
      "Created company: {'id': 9, 'name': 'Netflix Inc.', 'ticker': 'NFLX'}\n",
      "Created company: {'id': 10, 'name': 'The Walt Disney Co.', 'ticker': 'DIS'}\n"
     ]
    }
   ],
   "source": [
    "# create the companies in the database\n",
    "for company in companies:\n",
    "    response = requests.post(f\"{base_url}/companies\", json=company)\n",
    "    if response.status_code == 200:\n",
    "        print(f\"Created company: {response.json()}\")\n",
    "    else:\n",
    "        print(f\"Failed to create company: {response.status_code} - {response.text}\")"
   ]
  },
  {
   "cell_type": "markdown",
   "id": "ddd3077b",
   "metadata": {},
   "source": [
    "List the companies in the database to verify that they were created successfully."
   ]
  },
  {
   "cell_type": "code",
   "execution_count": 5,
   "id": "61ef8b3f",
   "metadata": {},
   "outputs": [
    {
     "name": "stdout",
     "output_type": "stream",
     "text": [
      "Companies in the database:\n",
      "{'id': 1, 'name': 'Apple Inc.', 'ticker': 'AAPL'}\n",
      "{'id': 2, 'name': 'Microsoft Corp.', 'ticker': 'MSFT'}\n",
      "{'id': 3, 'name': 'Alphabet Inc. (Google)', 'ticker': 'GOOGL'}\n",
      "{'id': 4, 'name': 'Amazon.com Inc.', 'ticker': 'AMZN'}\n",
      "{'id': 5, 'name': 'Meta Platforms Inc. (Facebook)', 'ticker': 'META'}\n",
      "{'id': 6, 'name': 'Tesla Inc.', 'ticker': 'TSLA'}\n",
      "{'id': 7, 'name': 'NVIDIA Corp.', 'ticker': 'NVDA'}\n",
      "{'id': 8, 'name': 'JPMorgan Chase & Co.', 'ticker': 'JPM'}\n",
      "{'id': 9, 'name': 'Netflix Inc.', 'ticker': 'NFLX'}\n",
      "{'id': 10, 'name': 'The Walt Disney Co.', 'ticker': 'DIS'}\n"
     ]
    }
   ],
   "source": [
    "response = requests.get(f\"{base_url}/companies\")\n",
    "if response.status_code == 200:\n",
    "    print(\"Companies in the database:\")\n",
    "    for company in response.json():\n",
    "        print(company)\n",
    "else:\n",
    "    print(f\"Failed to retrieve companies: {response.status_code} - {response.text}\")"
   ]
  },
  {
   "cell_type": "markdown",
   "id": "8127537d",
   "metadata": {},
   "source": [
    "Now that we have the companies in the database, we can fetch their business descriptions from their 10-K filings. This will create new entries in the table `filings` for each company."
   ]
  },
  {
   "cell_type": "code",
   "execution_count": 6,
   "id": "f7292ea5",
   "metadata": {},
   "outputs": [
    {
     "name": "stdout",
     "output_type": "stream",
     "text": [
      "10-K filings for AAPL:\n",
      "{'id': 1, 'company_id': 1, 'filing_type': '10-K', 'filing_date': '2024-11-01T00:00:00', 'business_description': 'Item 1.    Business\\nCompany Background\\nThe Company designs, manufactures and markets smartphones, personal computers, tablets, wearables and accessories, and sells a variety of related services. The Company’s fiscal year is the 52- or 53-week period that ends on the last Saturday of September.\\nProducts\\niPhone\\niPhone® is the Company’s line of smartphones based on its iOS operating system. The iPhone line includes iPhone 16 Pro, iPhone 16, iPhone 15, iPhone 14 and iPhone SE®.\\nMac\\nMac® is the Company’s line of personal computers based on its macOS® operating system. The Mac line includes laptops MacBook Air® and MacBook Pro®, as well as desktops iMac®, Mac mini®, Mac Studio® and Mac Pro®.\\niPad\\niPad® is the Company’s line of multipurpose tablets based on its iPadOS® operating system. The iPad line includes iPad Pro®, iPad Air®, iPad and iPad mini®.\\nWearables, Home and Accessories\\nWearables includes smartwatches, wireless headphones and spatial computers. The Company’s line of smartwatches,...', 'business_summary': None, 'model_used': None, 'created_at': None}\n",
      "10-K filings for MSFT:\n",
      "{'id': 2, 'company_id': 2, 'filing_type': '10-K', 'filing_date': '2024-07-30T00:00:00', 'business_description': 'Item 1\\nNote About Forward-Looking Statements\\n This report includes estimates, projections, statements relating to our business plans, objectives, and expected operating results that are “forward-looking statements” within the meaning of the Private Securities Litigation Reform Act of 1995, Section 27A of the Securities Act of 1933, and Section 21E of the Securities Exchange Act of 1934. Forward-looking statements may appear throughout this report, including the following sections: “Business” (Part I, Item 1 of this Form 10-K), “Risk Factors” (Part I, Item 1A of this Form 10-K), and “Management’s Discussion and Analysis of Financial Condition and Results of Operations” (Part II, Item 7 of this Form 10-K). These forward-looking statements generally are identified by the words “believe,” “project,” “expect,” “anticipate,” “estimate,” “intend,” “strategy,” “future,” “opportunity,” “plan,” “may,” “should,” “will,” “would,” “will be,” “will continue,” “will likely result,” and similar expres...', 'business_summary': None, 'model_used': None, 'created_at': None}\n",
      "10-K filings for GOOGL:\n",
      "{'id': 3, 'company_id': 3, 'filing_type': '10-K', 'filing_date': '2025-02-05T00:00:00', 'business_description': 'ITEM 1.BUSINESS\\nOverview\\nAs our founders Larry and Sergey wrote in the original founders\\' letter, \"Google is not a conventional company. We do not intend to become one.\" That unconventional spirit has been a driving force throughout our history, inspiring us to tackle big problems and invest in moonshots. It led us to be a pioneer in the development of AI and, since 2016, an AI-first company. We continue this work under the leadership of Alphabet and Google CEO, Sundar Pichai.\\nAlphabet is a collection of businesses — the largest of which is Google. We report Google in two segments, Google Services and Google Cloud, and all non-Google businesses collectively as Other Bets. Supporting these businesses, we have centralized certain AI-related research and development which is reported in Alphabet-level activities. Alphabet\\'s structure is about helping each of our businesses prosper through strong leaders and independence. \\nAccess and Technology for Everyone\\nThe Internet is one of the world...', 'business_summary': None, 'model_used': None, 'created_at': None}\n",
      "10-K filings for AMZN:\n",
      "{'id': 4, 'company_id': 4, 'filing_type': '10-K', 'filing_date': '2025-02-07T00:00:00', 'business_description': '\\nItem 1.        Business    \\nThis Annual Report on Form 10-K and the documents incorporated herein by reference contain forward-looking statements based on expectations, estimates, and projections as of the date of this filing. Actual results and outcomes may differ materially from those expressed in forward-looking statements. See Item 1A of Part I — “Risk Factors.” As used herein, “Amazon.com,” “we,” “our,” and similar terms include Amazon.com, Inc. and its subsidiaries, unless the context indicates otherwise.\\nGeneral\\nWe seek to be Earth’s most customer-centric company. We are guided by four principles: customer obsession rather than competitor focus, passion for invention, commitment to operational excellence, and long-term thinking. In each of our segments, we serve our primary customer sets, consisting of consumers, sellers, developers, enterprises, content creators, advertisers, and employees.\\nWe have organized our operations into three segments: North America, International, and...', 'business_summary': None, 'model_used': None, 'created_at': None}\n",
      "10-K filings for META:\n",
      "{'id': 5, 'company_id': 5, 'filing_type': '10-K', 'filing_date': '2025-01-30T00:00:00', 'business_description': 'Item 1.Business \\nOverview\\nOur mission is to build the future of human connection and the technology that makes it possible. \\nWe build technology that helps people connect and share, find and build communities, and grow businesses. Our products enable people to connect and share with friends and family through mobile devices, personal computers, virtual reality (VR) and mixed reality (MR) headsets, augmented reality (AR), and wearables. We also help people discover and learn about what is going on in the world around them, enable people to share their experiences, ideas, photos, videos, and other content with audiences ranging from their closest family members and friends to the public at large, and stay connected everywhere by accessing our products. Meta is moving our offerings beyond 2D screens toward immersive experiences like augmented, mixed, and virtual reality to help build the next computing platform. Our vision does not center on any single product, but rather an entire ecosys...', 'business_summary': None, 'model_used': None, 'created_at': None}\n",
      "10-K filings for TSLA:\n",
      "{'id': 6, 'company_id': 6, 'filing_type': '10-K', 'filing_date': '2025-01-30T00:00:00', 'business_description': 'ITEM 1. BUSINESS\\nOverview\\nWe design, develop, manufacture, sell and lease high-performance fully electric vehicles and energy generation and storage systems, and offer services related to our products. We generally sell our products directly to customers, and continue to grow our customer-facing infrastructure through a global network of vehicle showrooms and service centers, Mobile Service, body shops, Supercharger stations and Destination Chargers to accelerate the widespread adoption of our products. We emphasize performance, attractive styling and the safety of our users and workforce in the design and manufacture of our products and are continuing to develop full self-driving technology for improved safety. We also strive to lower the cost of ownership for our customers through continuous efforts to reduce manufacturing costs and by offering financial and other services tailored to our products. \\nOur mission is to accelerate the world’s transition to sustainable energy. We believe...', 'business_summary': None, 'model_used': None, 'created_at': None}\n",
      "10-K filings for NVDA:\n",
      "{'id': 7, 'company_id': 7, 'filing_type': '10-K', 'filing_date': '2025-02-26T00:00:00', 'business_description': 'Item 1. Business\\nOur Company\\nNVIDIA pioneered accelerated computing to help solve the most challenging computational problems. NVIDIA is now a full-stack computing infrastructure company with data-center-scale offerings that are reshaping industry.\\nOur full-stack includes the foundational CUDA programming model that runs on all NVIDIA GPUs, as well as hundreds of domain-specific software libraries, software development kits, or SDKs, and Application Programming Interfaces, or APIs. This deep and broad software stack accelerates the performance and eases the deployment of NVIDIA accelerated computing for computationally intensive workloads such as artificial intelligence, or AI, model training and inference, data analytics, scientific computing, and 3D graphics, with vertical-specific optimizations to address industries ranging from healthcare and telecom to automotive and manufacturing.\\nOur data-center-scale offerings are comprised of compute and networking solutions that can scale to ...', 'business_summary': None, 'model_used': None, 'created_at': None}\n",
      "10-K filings for JPM:\n",
      "{'id': 8, 'company_id': 8, 'filing_type': '10-K', 'filing_date': '2025-02-14T00:00:00', 'business_description': 'Item 1. Business.\\nOverview\\nJPMorgan Chase & Co. (“JPMorganChase” or the “Firm”, NYSE: JPM), a financial holding company incorporated under Delaware law in 1968, is a leading financial services firm based in the United States of America (“U.S.”), with operations worldwide. JPMorganChase had $4.0 trillion in assets and $344.8 billion in stockholders’ equity as of December 31, 2024. The Firm is a leader in investment banking, financial services for consumers and small businesses, commercial banking, financial transaction processing and asset management. Under the J.P. Morgan and Chase brands, the Firm serves millions of customers, predominantly in the U.S., and many of the world’s most prominent corporate, institutional and government clients globally.\\nJPMorganChase’s principal bank subsidiary is JPMorgan Chase Bank, National Association (“JPMorgan Chase Bank, N.A.”), a national banking association with U.S. branches in 48 states and Washington, D.C. JPMorganChase’s principal non-bank sub...', 'business_summary': None, 'model_used': None, 'created_at': None}\n",
      "10-K filings for NFLX:\n",
      "{'id': 9, 'company_id': 9, 'filing_type': '10-K', 'filing_date': '2025-01-27T00:00:00', 'business_description': \"Item 1.Business\\nABOUT US\\nNetflix, Inc. (“Netflix”, “the Company”, “registrant”, “we”, or “us”) is one of the world’s leading entertainment services with approximately 302 million paid memberships in over 190 countries enjoying TV series, films and games across a wide variety of genres and languages. Members can play, pause and resume watching as much as they want, anytime, anywhere, and can change their plans at any time. \\nOur core strategy is to grow our business globally within the parameters of our operating margin target. We strive to continuously improve our members' experience by offering compelling content that delights them and attracts new members. We aim to offer a range of pricing plans, including our ad-supported subscription plan, to meet a variety of consumer needs. We seek to drive conversation around our content to further enhance member joy, and we are continuously enhancing our user interface to help our members more easily choose content that they will find enjoyable...\", 'business_summary': None, 'model_used': None, 'created_at': None}\n",
      "10-K filings for DIS:\n",
      "{'id': 10, 'company_id': 10, 'filing_type': '10-K', 'filing_date': '2024-11-14T00:00:00', 'business_description': 'ITEM 1. Business\\nThe Walt Disney Company, together with the subsidiaries through which businesses are conducted (the Company), is a diversified worldwide entertainment company with operations in three segments: Entertainment, Sports and Experiences.\\nThe terms “Company”, “we”, “our” and “us” are used in this report to refer collectively to the parent company and the subsidiaries through which businesses are conducted.\\nENTERTAINMENT\\nThe Entertainment segment generally encompasses the Company’s non-sports focused global film and episodic content production and distribution activities.\\nThe lines of business within Entertainment along with their significant business activities include the following: \\n•Linear Networks\\n◦Domestic: ABC Television Network (ABC Network); Disney, Freeform, FX and National Geographic (owned 73% by the Company) branded television channels; and eight owned ABC television stations \\n◦International: Disney, FX, National Geographic (owned 73% by the Company) and Star bra...', 'business_summary': None, 'model_used': None, 'created_at': None}\n"
     ]
    }
   ],
   "source": [
    "for company in companies:\n",
    "    ticker = company[\"ticker\"]\n",
    "    response = requests.post(f\"{base_url}/filings/{ticker}\")\n",
    "    if response.status_code == 200:\n",
    "        print(f\"10-K filings for {ticker}:\")\n",
    "        print(response.json())\n",
    "    else:\n",
    "        print(f\"Failed to retrieve filings for {ticker}: {response.status_code} - {response.text}\")"
   ]
  },
  {
   "cell_type": "markdown",
   "id": "665b71e2",
   "metadata": {},
   "source": [
    "Now we have the business descriptions in the database, we can produce summaries using the summarization model. This will update the `filings` table with the summaries produced by the model. The default model is `facebook/bart-large-cnn`, but you can specify a different model (we will see how to do this later). At the moment, only Hugging Face models are supported, but the tool is designed to be extensible, so this can be easily changed in the future.\n",
    "\n",
    "The models are downloaded and cached locally. Because the business descriptions in the 10-K filings are typically quite long, the approach that has been taken is to split them into chunks and to summarize each chunk separately. The chunk summaries are then concatenated together to form the final summary.\n",
    "\n",
    "The first time you run this, it will take some time to download the model (especially if you are using the Docker container). "
   ]
  },
  {
   "cell_type": "code",
   "execution_count": 7,
   "id": "8099a891",
   "metadata": {},
   "outputs": [],
   "source": [
    "ticker = \"GOOGL\"  # company ticker for which to summarize filings\n",
    "response = requests.patch(f\"{base_url}/filings/{ticker}/summarize\")  # by default, the model is facebook/bart-large-cnn"
   ]
  },
  {
   "cell_type": "markdown",
   "id": "59511f78",
   "metadata": {},
   "source": [
    "Check the response, and verify that a summary was produced."
   ]
  },
  {
   "cell_type": "code",
   "execution_count": 8,
   "id": "f82aa5cb",
   "metadata": {},
   "outputs": [
    {
     "data": {
      "text/plain": [
       "{'id': 3,\n",
       " 'company_id': 3,\n",
       " 'filing_type': '10-K',\n",
       " 'filing_date': '2025-02-05T00:00:00',\n",
       " 'business_description': 'ITEM 1.BUSINESS\\nOverview\\nAs our founders Larry and Sergey wrote in the original founders\\' letter, \"Google is not a conventional company. We do not intend to become one.\" That unconventional spirit has been a driving force throughout our history, inspiring us to tackle big problems and invest in moonshots. It led us to be a pioneer in the development of AI and, since 2016, an AI-first company. We continue this work under the leadership of Alphabet and Google CEO, Sundar Pichai.\\nAlphabet is a collection of businesses — the largest of which is Google. We report Google in two segments, Google Services and Google Cloud, and all non-Google businesses collectively as Other Bets. Supporting these businesses, we have centralized certain AI-related research and development which is reported in Alphabet-level activities. Alphabet\\'s structure is about helping each of our businesses prosper through strong leaders and independence. \\nAccess and Technology for Everyone\\nThe Internet is one of the world...',\n",
       " 'business_summary': 'Alphabet is a collection of businesses — the largest of which is Google. We report Google in two segments, Google Services and Google Cloud, and all non-Google businesses collectively as Other Bets. We are focused on building an even more helpful Google for everyone. Google has invested more than $150 billion in research and development in the last five years. In 2023, we took a significant step on our journey to make AI more helpful for everyone. In 2024, we launched Gemini 2.0, our most capable model yet. Gemini is powering AI features across our products and services that are helping people everyday. Google\\'s approach to AI must be both bold and responsible. We aim to build the most advanced, safe, and responsible AI through a full stack of robust AI-optimized infrastructure. We are using Gemini 2.0 in new research prototypes, including Project Astra, which explores future capabilities of a universal AI assistant. Gemini for Google Cloud provides pre-packaged AI agents that can assist developers to write, document, test, and operate software. Gemini for Google Workspace helps users write, organize, visualize, accelerate workflows, and have richer meetings. Google\\'s early investments in AI started out as moonshots but are now incorporated into our core products and central to future developments. Our Android and Chrome operating systems enable users to access Gemini, and other Google AI features throughout their day. Google is committed to building helpful products that can improve the lives of millions of people worldwide. Google Services\\' core products and platforms include ads, Android, Chrome, devices, Gmail, Google Drive, Google Maps, Google Photos, Google Play, Search, and YouTube. Google comprises two segments: Google Services and Google Cloud. Google is using Gemini customized for Google Search to provide our users an improved Search experience. AI Overviews has been released in more than one hundred countries, reaching more than 1 billion users. Google Services generates revenues primarily by delivering both performance and brand advertising that appears on Google Search & other properties, YouTube, and Google Network partners\\' properties. The company has allocated substantial resources to stopping bad advertising practices and protecting users. Google Services increasingly generates revenues from products and services beyond advertising. Google Cloud generates revenues primarily from consumption-based fees and subscriptions for infrastructure, platform, applications and other cloud services. Gemini for Google Workspace brings AI-powered agents into Gmail, Docs, Sheets and more. Across Alphabet, we are also using technology to try to solve big problems that affect a wide variety of industries. Revenues are generated primarily from the sale of healthcare-related services, and internet services. Other Bets operate as independent companies and have their own boards with independent members and outside investors. Competition depends on attracting and retaining users, advertisers and content providers. In 2021, we set an ambitious goal to reach net-zero emissions across all of our operations and value chain by 2030. To make progress toward this effort, we aim to reduce 50% of our combined Scope 1, Scope 2 (market-based), and Scope 3 absolute emissions by 2030, and we plan to invest in nature-based and technology-based carbon removal solutions. In 2020, we set a goal to run on 24/7 CFE every hour of every day on every grid where we operate by 2030. In 2023, we began implementing our carbon removals strategy. We have begun establishing impactful partnerships and have started contracting for carbon removal credits. As of December 31, 2024, Alphabet had 183,323 employees. We have work councils and statutory employee representation obligations in certain countries. We are committed to supporting protected labor rights, maintaining an open culture, and listening to all employees. We have seen an increase in new and evolving laws and regulations, as well as related enforcement actions and investigations, being proposed and implemented in recent years by legislative and regulatory bodies around the world. We rely on various intellectual property laws, confidentiality procedures and contractual provisions to protect our proprietary technology and our brand. We webcast via our investor relations YouTube channel and website our earnings calls and certain events we participate in or host with members of the investment community. We have licensed in the past, and expect that we may license in the future, certain of our rights to other parties. For additional information, see Item 1A Risk Factors of this Annual Report on Form 10-K. Corporate governance information is also available on our investor relations website under the heading \"Governance\" The information contained on, or that may be accessed through our websites or our executive officers\\' social media channels, is not incorporated by reference into this Annual Report on Form 10-K or in any other report or document we file with the SEC.',\n",
       " 'model_used': 'huggingface-facebook/bart-large-cnn',\n",
       " 'created_at': '2025-04-27T22:09:09.999517'}"
      ]
     },
     "execution_count": 8,
     "metadata": {},
     "output_type": "execute_result"
    }
   ],
   "source": [
    "response.json()"
   ]
  },
  {
   "cell_type": "markdown",
   "id": "b5bfcebc",
   "metadata": {},
   "source": [
    "The business summary is stored in the `filings` database table. Verify it using the following endpoint."
   ]
  },
  {
   "cell_type": "code",
   "execution_count": 10,
   "id": "013e26a1",
   "metadata": {},
   "outputs": [
    {
     "name": "stdout",
     "output_type": "stream",
     "text": [
      "Business summary for GOOGL:\n",
      "Alphabet is a collection of businesses — the largest of which is Google. We report Google in two segments, Google Services and Google Cloud, and all non-Google businesses collectively as Other Bets. We are focused on building an even more helpful Google for everyone. Google has invested more than $150 billion in research and development in the last five years. In 2023, we took a significant step on our journey to make AI more helpful for everyone. In 2024, we launched Gemini 2.0, our most capable model yet. Gemini is powering AI features across our products and services that are helping people everyday. Google's approach to AI must be both bold and responsible. We aim to build the most advanced, safe, and responsible AI through a full stack of robust AI-optimized infrastructure. We are using Gemini 2.0 in new research prototypes, including Project Astra, which explores future capabilities of a universal AI assistant. Gemini for Google Cloud provides pre-packaged AI agents that can assist developers to write, document, test, and operate software. Gemini for Google Workspace helps users write, organize, visualize, accelerate workflows, and have richer meetings. Google's early investments in AI started out as moonshots but are now incorporated into our core products and central to future developments. Our Android and Chrome operating systems enable users to access Gemini, and other Google AI features throughout their day. Google is committed to building helpful products that can improve the lives of millions of people worldwide. Google Services' core products and platforms include ads, Android, Chrome, devices, Gmail, Google Drive, Google Maps, Google Photos, Google Play, Search, and YouTube. Google comprises two segments: Google Services and Google Cloud. Google is using Gemini customized for Google Search to provide our users an improved Search experience. AI Overviews has been released in more than one hundred countries, reaching more than 1 billion users. Google Services generates revenues primarily by delivering both performance and brand advertising that appears on Google Search & other properties, YouTube, and Google Network partners' properties. The company has allocated substantial resources to stopping bad advertising practices and protecting users. Google Services increasingly generates revenues from products and services beyond advertising. Google Cloud generates revenues primarily from consumption-based fees and subscriptions for infrastructure, platform, applications and other cloud services. Gemini for Google Workspace brings AI-powered agents into Gmail, Docs, Sheets and more. Across Alphabet, we are also using technology to try to solve big problems that affect a wide variety of industries. Revenues are generated primarily from the sale of healthcare-related services, and internet services. Other Bets operate as independent companies and have their own boards with independent members and outside investors. Competition depends on attracting and retaining users, advertisers and content providers. In 2021, we set an ambitious goal to reach net-zero emissions across all of our operations and value chain by 2030. To make progress toward this effort, we aim to reduce 50% of our combined Scope 1, Scope 2 (market-based), and Scope 3 absolute emissions by 2030, and we plan to invest in nature-based and technology-based carbon removal solutions. In 2020, we set a goal to run on 24/7 CFE every hour of every day on every grid where we operate by 2030. In 2023, we began implementing our carbon removals strategy. We have begun establishing impactful partnerships and have started contracting for carbon removal credits. As of December 31, 2024, Alphabet had 183,323 employees. We have work councils and statutory employee representation obligations in certain countries. We are committed to supporting protected labor rights, maintaining an open culture, and listening to all employees. We have seen an increase in new and evolving laws and regulations, as well as related enforcement actions and investigations, being proposed and implemented in recent years by legislative and regulatory bodies around the world. We rely on various intellectual property laws, confidentiality procedures and contractual provisions to protect our proprietary technology and our brand. We webcast via our investor relations YouTube channel and website our earnings calls and certain events we participate in or host with members of the investment community. We have licensed in the past, and expect that we may license in the future, certain of our rights to other parties. For additional information, see Item 1A Risk Factors of this Annual Report on Form 10-K. Corporate governance information is also available on our investor relations website under the heading \"Governance\" The information contained on, or that may be accessed through our websites or our executive officers' social media channels, is not incorporated by reference into this Annual Report on Form 10-K or in any other report or document we file with the SEC.\n"
     ]
    }
   ],
   "source": [
    "ticker = \"GOOGL\"\n",
    "response = requests.get(f\"{base_url}/filings/{ticker}\")\n",
    "if response.status_code == 200:\n",
    "    print(f\"Business summary for {ticker}:\")\n",
    "    print(response.json()[\"business_summary\"])"
   ]
  },
  {
   "cell_type": "markdown",
   "id": "f39f9140",
   "metadata": {},
   "source": [
    "Verify that the summary is shorter than the business description."
   ]
  },
  {
   "cell_type": "code",
   "execution_count": 11,
   "id": "bf07cf04",
   "metadata": {},
   "outputs": [
    {
     "name": "stdout",
     "output_type": "stream",
     "text": [
      "Length of business summary: 5079\n",
      "Length of business description: 30617\n"
     ]
    }
   ],
   "source": [
    "print(f\"Length of business summary: {len(response.json()['business_summary'])}\")\n",
    "print(f\"Length of business description: {len(response.json()['business_description'])}\")"
   ]
  },
  {
   "cell_type": "markdown",
   "id": "13056986",
   "metadata": {},
   "source": [
    "Now let's try to produce a summary using a different model. The model must be available on Hugging Face, and needs to be specified as a string preceded by \"huggingface-\". Let's try the `t5-small` model.\n",
    "\n",
    "As last time, the first time you run this, it will take some time to download the model (especially if you are using the Docker container)."
   ]
  },
  {
   "cell_type": "code",
   "execution_count": 12,
   "id": "a0c50ad1",
   "metadata": {},
   "outputs": [],
   "source": [
    "model = \"huggingface-t5-small\"\n",
    "ticker = \"GOOGL\"\n",
    "response = requests.patch(\n",
    "    f\"{base_url}/filings/{ticker}/summarize\",\n",
    "    params={\"model\": model},\n",
    ")"
   ]
  },
  {
   "cell_type": "markdown",
   "id": "a268547c",
   "metadata": {},
   "source": [
    "Check the response, and verify that a summary (different from the previous one) was produced."
   ]
  },
  {
   "cell_type": "code",
   "execution_count": 13,
   "id": "99aa4867",
   "metadata": {},
   "outputs": [
    {
     "data": {
      "text/plain": [
       "{'id': 3,\n",
       " 'company_id': 3,\n",
       " 'filing_type': '10-K',\n",
       " 'filing_date': '2025-02-05T00:00:00',\n",
       " 'business_description': 'ITEM 1.BUSINESS\\nOverview\\nAs our founders Larry and Sergey wrote in the original founders\\' letter, \"Google is not a conventional company. We do not intend to become one.\" That unconventional spirit has been a driving force throughout our history, inspiring us to tackle big problems and invest in moonshots. It led us to be a pioneer in the development of AI and, since 2016, an AI-first company. We continue this work under the leadership of Alphabet and Google CEO, Sundar Pichai.\\nAlphabet is a collection of businesses — the largest of which is Google. We report Google in two segments, Google Services and Google Cloud, and all non-Google businesses collectively as Other Bets. Supporting these businesses, we have centralized certain AI-related research and development which is reported in Alphabet-level activities. Alphabet\\'s structure is about helping each of our businesses prosper through strong leaders and independence. \\nAccess and Technology for Everyone\\nThe Internet is one of the world...',\n",
       " 'business_summary': \"we continue this work under the leadership of Alphabet and Google CEO, Sundar Pichai . our mission is to organize the world’s information and make it universally accessible and useful . Google Cloud is continually innovating and building new products and features to help our customers, partners, customers, and communities . we have invested more than $150 billion in research and development in the last five years in support of these efforts . in 2023, we launched Gemini 2.0, our natively multimodal AI model . we aim to build the most advanced, safe, and responsible AI through a full stack of robust AI-optimized infrastructure, including data centers, chips, and a global fiber network . we are driving efficiencies in our data centers while making significant hardware and model improvements . our vertex AI platform gives developers the ability to train, tune, augment, test, and deploy applications using Gemini, Imagen, Veo, and other generative AI models . Gemini for google Cloud provides pre-packaged AI agents that can assist developers to write, document, test and operate software . our Pixel phones have incorporated AI compute directly into the device and built experiences on top of it . our latest Pixel devices were built with Gemini Nano, bringing the best AI-assistive experiences to our users . privacy and security We make it a priority to protect the privacy of our products, users, and customers, even if there are near-term financial consequences . we invest in building products that are secure by default; strictly upholding responsible data practices that emphasize privacy by design; and building easy-to-use settings that put people in control . new search modalities, like voice and visual search, made it easier for people to express their curiosity in natural and intuitive ways . multisearch has made it possible to express more natural language queries, vastly improving the types of questions users can ask, and the quality of results . AI Overviews has been released in more than one billion countries, reaching over one billion users . how we make money We have built world-class advertising technologies for advertisers, agencies, and publishers to power their digital marketing businesses . our advertising solutions help millions of companies grow their businesses through our wide range of products across devices and formats . Google Services increasingly generates revenues from products and services beyond advertising . customers use Google Cloud in multiple ways such as: •AI-optimized Infrastructure: provides open, reliable, and scalable compute, networking, and storage to enable customers to run workload anywhere . we offer widely used first-party, third-party and open models along with services such as vector search, grounding, and distillation . our data platform also unifies data lakes, data warehouses, data governance and advanced machine learning into a single platform . other Bets operate as independent companies and some have their own boards with independent members and outside investors . revenues from Other Bets are generated primarily from the sale of healthcare-related services, and internet services . competition depends on attracting and retaining users, for whom other products and services are literally one click away, largely on the basis of the relevance of our advertising . content providers, primarily based on our ability to generate sales leads, and ultimately customers, and to deliver their advertisements in an efficient and effective manner across a variety of distribution channels . in 2020, we set a goal to run 24/7 CFE every hour of every day on every grid where we operate by 2030 . in 2023, we began implementing our carbon removals strategy and have started contracting for carbon removal credits . some of our plans may take years to deliver results, particularly where they involve building new large-scale infrastructure with long lead times . as of December 31, 2024, Alphabet had 183,323 employees . our competitive compensation programs help us attract and retain key talent . we will continue to invest in recruiting talented people to technical and non-technical roles . new and evolving laws and regulations are being proposed and implemented in recent years by legislative and regulatory bodies around the world . a number of new laws, regulations and enforcement actions have been proposed, implemented, interpreted, and enforced by the courts . the rules may be onerous and could, individually or in aggregate, increase our cost of doing business . foreign countries covering certain of our technology, and acquired patent assets to supplement our portfolio . we have licensed in the past, and expect that we may license in the future, certain rights to other parties . access to our Annual Reports on Form 10-K, Quarterly reports on form 10-Q, current reports on Form 8-K, and our Proxy Statements is available on our investor relations website . corporate governance information is also available on our investor relations website . the information contained on, or that may be accessed through our websites or our executive officers' social media channels, is not incorporated by reference into this Annual Report on Form 10-K .\",\n",
       " 'model_used': 'huggingface-t5-small',\n",
       " 'created_at': '2025-04-27T22:12:10.670600'}"
      ]
     },
     "execution_count": 13,
     "metadata": {},
     "output_type": "execute_result"
    }
   ],
   "source": [
    "response.json()"
   ]
  },
  {
   "cell_type": "markdown",
   "id": "481386c5",
   "metadata": {},
   "source": [
    "Verify that the updated summary is in the database."
   ]
  },
  {
   "cell_type": "code",
   "execution_count": 14,
   "id": "401b53f7",
   "metadata": {},
   "outputs": [
    {
     "name": "stdout",
     "output_type": "stream",
     "text": [
      "Business summary for GOOGL:\n",
      "we continue this work under the leadership of Alphabet and Google CEO, Sundar Pichai . our mission is to organize the world’s information and make it universally accessible and useful . Google Cloud is continually innovating and building new products and features to help our customers, partners, customers, and communities . we have invested more than $150 billion in research and development in the last five years in support of these efforts . in 2023, we launched Gemini 2.0, our natively multimodal AI model . we aim to build the most advanced, safe, and responsible AI through a full stack of robust AI-optimized infrastructure, including data centers, chips, and a global fiber network . we are driving efficiencies in our data centers while making significant hardware and model improvements . our vertex AI platform gives developers the ability to train, tune, augment, test, and deploy applications using Gemini, Imagen, Veo, and other generative AI models . Gemini for google Cloud provides pre-packaged AI agents that can assist developers to write, document, test and operate software . our Pixel phones have incorporated AI compute directly into the device and built experiences on top of it . our latest Pixel devices were built with Gemini Nano, bringing the best AI-assistive experiences to our users . privacy and security We make it a priority to protect the privacy of our products, users, and customers, even if there are near-term financial consequences . we invest in building products that are secure by default; strictly upholding responsible data practices that emphasize privacy by design; and building easy-to-use settings that put people in control . new search modalities, like voice and visual search, made it easier for people to express their curiosity in natural and intuitive ways . multisearch has made it possible to express more natural language queries, vastly improving the types of questions users can ask, and the quality of results . AI Overviews has been released in more than one billion countries, reaching over one billion users . how we make money We have built world-class advertising technologies for advertisers, agencies, and publishers to power their digital marketing businesses . our advertising solutions help millions of companies grow their businesses through our wide range of products across devices and formats . Google Services increasingly generates revenues from products and services beyond advertising . customers use Google Cloud in multiple ways such as: •AI-optimized Infrastructure: provides open, reliable, and scalable compute, networking, and storage to enable customers to run workload anywhere . we offer widely used first-party, third-party and open models along with services such as vector search, grounding, and distillation . our data platform also unifies data lakes, data warehouses, data governance and advanced machine learning into a single platform . other Bets operate as independent companies and some have their own boards with independent members and outside investors . revenues from Other Bets are generated primarily from the sale of healthcare-related services, and internet services . competition depends on attracting and retaining users, for whom other products and services are literally one click away, largely on the basis of the relevance of our advertising . content providers, primarily based on our ability to generate sales leads, and ultimately customers, and to deliver their advertisements in an efficient and effective manner across a variety of distribution channels . in 2020, we set a goal to run 24/7 CFE every hour of every day on every grid where we operate by 2030 . in 2023, we began implementing our carbon removals strategy and have started contracting for carbon removal credits . some of our plans may take years to deliver results, particularly where they involve building new large-scale infrastructure with long lead times . as of December 31, 2024, Alphabet had 183,323 employees . our competitive compensation programs help us attract and retain key talent . we will continue to invest in recruiting talented people to technical and non-technical roles . new and evolving laws and regulations are being proposed and implemented in recent years by legislative and regulatory bodies around the world . a number of new laws, regulations and enforcement actions have been proposed, implemented, interpreted, and enforced by the courts . the rules may be onerous and could, individually or in aggregate, increase our cost of doing business . foreign countries covering certain of our technology, and acquired patent assets to supplement our portfolio . we have licensed in the past, and expect that we may license in the future, certain rights to other parties . access to our Annual Reports on Form 10-K, Quarterly reports on form 10-Q, current reports on Form 8-K, and our Proxy Statements is available on our investor relations website . corporate governance information is also available on our investor relations website . the information contained on, or that may be accessed through our websites or our executive officers' social media channels, is not incorporated by reference into this Annual Report on Form 10-K .\n"
     ]
    }
   ],
   "source": [
    "ticker = \"GOOGL\"\n",
    "response = requests.get(f\"{base_url}/filings/{ticker}\")\n",
    "if response.status_code == 200:\n",
    "    print(f\"Business summary for {ticker}:\")\n",
    "    print(response.json()[\"business_summary\"])"
   ]
  },
  {
   "cell_type": "markdown",
   "id": "0528856a",
   "metadata": {},
   "source": [
    "Let's produce a summary for a different company. This time, we will use the default model, `facebook/bart-large-cnn`."
   ]
  },
  {
   "cell_type": "code",
   "execution_count": 15,
   "id": "bb7900a8",
   "metadata": {},
   "outputs": [],
   "source": [
    "ticker = \"NFLX\"\n",
    "response = requests.patch(f\"{base_url}/filings/{ticker}/summarize\")  # by default, the model is facebook/bart-large-cnn"
   ]
  },
  {
   "cell_type": "code",
   "execution_count": 17,
   "id": "c08cc1a1",
   "metadata": {},
   "outputs": [
    {
     "name": "stdout",
     "output_type": "stream",
     "text": [
      "Business summary for NFLX:\n",
      "Netflix, Inc. is one of the world’s leading entertainment services with approximately 302 million paid memberships in over 190 countries. Members can play, pause and resume watching as much as they want, anytime, anywhere. Our membership growth exhibits a seasonal pattern that reflects variations when consumers buy internet-connected screens and when they tend to increase their viewing. Historically, the fourth quarter represents our greatest streaming membership growth. Our ability to provide our members with content they can watch depends on studios, content providers and other rights holders licensing rights. We view our employees and our culture as key to our success. As of December 31, 2024, we had approximately 14,000 full-time employees. We believe an important component of our success is our company culture. Netflix's culture is detailed in a \"Culture Memo\" located on our website. Fostering a work environment that is culturally diverse, inclusive and equitable is a major focus for us. We aim generally to pay our employees at their personal top of market. We conduct pay equity analyses at least annually. We believe that our approach to human capital resources has been instrumental in our growth. Netflix uses social media and blogs to communicate with our members and the public about our company, our services and other issues. It is possible that the information we post on social media could be deemed to be material information. We encourage investors, the media, and others interested in our company to review the information We post on the social media channels and blogs listed on our investor relations website.\n",
      "Length of business summary: 1645\n",
      "Length of business description: 10614\n"
     ]
    }
   ],
   "source": [
    "ticker = \"NFLX\"\n",
    "response = requests.get(f\"{base_url}/filings/{ticker}\")\n",
    "if response.status_code == 200:\n",
    "    print(f\"Business summary for {ticker}:\")\n",
    "    print(response.json()[\"business_summary\"])\n",
    "    print(f\"Length of business summary: {len(response.json()['business_summary'])}\")\n",
    "    print(f\"Length of business description: {len(response.json()['business_description'])}\")"
   ]
  },
  {
   "cell_type": "markdown",
   "id": "9124d1dd",
   "metadata": {},
   "source": [
    "As a final test case, let's showcase some more API functionality. First, try to delete a company from the database. This will raise an error because the company has a filing associated with it. You need to delete the filing first, and then you can delete the company."
   ]
  },
  {
   "cell_type": "code",
   "execution_count": 18,
   "id": "401a607d",
   "metadata": {},
   "outputs": [
    {
     "name": "stdout",
     "output_type": "stream",
     "text": [
      "Failed to delete company: 400 - {\"detail\":\"Cannot delete company AAPL with existing filings.\"}\n"
     ]
    }
   ],
   "source": [
    "ticker = \"AAPL\"\n",
    "response = requests.delete(f\"{base_url}/companies/{ticker}\")\n",
    "if response.status_code == 200:\n",
    "    print(f\"Deleted company: {response.json()}\")\n",
    "else:\n",
    "    print(f\"Failed to delete company: {response.status_code} - {response.text}\")"
   ]
  },
  {
   "cell_type": "markdown",
   "id": "7042d8a9",
   "metadata": {},
   "source": [
    "First, delete the filing associated with the company."
   ]
  },
  {
   "cell_type": "code",
   "execution_count": 19,
   "id": "e7c107cf",
   "metadata": {},
   "outputs": [
    {
     "name": "stdout",
     "output_type": "stream",
     "text": [
      "Deleted filings for AAPL: {'detail': 'Filing for AAPL deleted.'}\n"
     ]
    }
   ],
   "source": [
    "ticker = \"AAPL\"\n",
    "response = requests.delete(f\"{base_url}/filings/{ticker}\")\n",
    "if response.status_code == 200:\n",
    "    print(f\"Deleted filings for {ticker}: {response.json()}\")\n",
    "else:\n",
    "    print(f\"Failed to delete filings for {ticker}: {response.status_code} - {response.text}\")"
   ]
  },
  {
   "cell_type": "markdown",
   "id": "937587f9",
   "metadata": {},
   "source": [
    "Verify the filing was deleted."
   ]
  },
  {
   "cell_type": "code",
   "execution_count": 20,
   "id": "9bb8e027",
   "metadata": {},
   "outputs": [
    {
     "name": "stdout",
     "output_type": "stream",
     "text": [
      "Failed to retrieve filings for AAPL: 404 - {\"detail\":\"Filing for AAPL not found.\"}\n"
     ]
    }
   ],
   "source": [
    "ticker = \"AAPL\"\n",
    "response = requests.get(f\"{base_url}/filings/{ticker}\")\n",
    "if response.status_code == 200:\n",
    "    print(f\"Filings for {ticker}: {response.json()}\")\n",
    "else:\n",
    "    print(f\"Failed to retrieve filings for {ticker}: {response.status_code} - {response.text}\")"
   ]
  },
  {
   "cell_type": "markdown",
   "id": "2fb5ac30",
   "metadata": {},
   "source": [
    "Now you can delete the company. "
   ]
  },
  {
   "cell_type": "code",
   "execution_count": 21,
   "id": "23a3c8cf",
   "metadata": {},
   "outputs": [
    {
     "name": "stdout",
     "output_type": "stream",
     "text": [
      "Deleted company: {'detail': 'Company AAPL deleted.'}\n"
     ]
    }
   ],
   "source": [
    "ticker = \"AAPL\"\n",
    "response = requests.delete(f\"{base_url}/companies/{ticker}\")\n",
    "if response.status_code == 200:\n",
    "    print(f\"Deleted company: {response.json()}\")\n",
    "else:\n",
    "    print(f\"Failed to delete company: {response.status_code} - {response.text}\")"
   ]
  },
  {
   "cell_type": "markdown",
   "id": "631ca0fa",
   "metadata": {},
   "source": [
    "Fetch the list of companies to verify that the company was deleted successfully."
   ]
  },
  {
   "cell_type": "code",
   "execution_count": 22,
   "id": "1970db20",
   "metadata": {},
   "outputs": [
    {
     "name": "stdout",
     "output_type": "stream",
     "text": [
      "Companies in the database:\n",
      "{'id': 2, 'name': 'Microsoft Corp.', 'ticker': 'MSFT'}\n",
      "{'id': 3, 'name': 'Alphabet Inc. (Google)', 'ticker': 'GOOGL'}\n",
      "{'id': 4, 'name': 'Amazon.com Inc.', 'ticker': 'AMZN'}\n",
      "{'id': 5, 'name': 'Meta Platforms Inc. (Facebook)', 'ticker': 'META'}\n",
      "{'id': 6, 'name': 'Tesla Inc.', 'ticker': 'TSLA'}\n",
      "{'id': 7, 'name': 'NVIDIA Corp.', 'ticker': 'NVDA'}\n",
      "{'id': 8, 'name': 'JPMorgan Chase & Co.', 'ticker': 'JPM'}\n",
      "{'id': 9, 'name': 'Netflix Inc.', 'ticker': 'NFLX'}\n",
      "{'id': 10, 'name': 'The Walt Disney Co.', 'ticker': 'DIS'}\n"
     ]
    }
   ],
   "source": [
    "response = requests.get(f\"{base_url}/companies/\")\n",
    "if response.status_code == 200:\n",
    "    print(\"Companies in the database:\")\n",
    "    for company in response.json():\n",
    "        print(company)"
   ]
  }
 ],
 "metadata": {
  "kernelspec": {
   "display_name": ".venv",
   "language": "python",
   "name": "python3"
  },
  "language_info": {
   "codemirror_mode": {
    "name": "ipython",
    "version": 3
   },
   "file_extension": ".py",
   "mimetype": "text/x-python",
   "name": "python",
   "nbconvert_exporter": "python",
   "pygments_lexer": "ipython3",
   "version": "3.12.5"
  }
 },
 "nbformat": 4,
 "nbformat_minor": 5
}
